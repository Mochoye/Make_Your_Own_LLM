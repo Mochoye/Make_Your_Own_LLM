{
 "cells": [
  {
   "cell_type": "code",
   "execution_count": 18,
   "id": "921c1652",
   "metadata": {},
   "outputs": [
    {
     "name": "stdout",
     "output_type": "stream",
     "text": [
      "cuda\n"
     ]
    }
   ],
   "source": [
    "import torch\n",
    "device = 'cuda' if torch.cuda.is_available() else 'cpu'\n",
    "print(device)\n",
    "block_size = 8\n",
    "batch_size = 4\n"
   ]
  },
  {
   "cell_type": "code",
   "execution_count": 2,
   "id": "862427dd-5f7d-4722-961f-6bb4274093ed",
   "metadata": {},
   "outputs": [
    {
     "name": "stdout",
     "output_type": "stream",
     "text": [
      "['\\n', ' ', '!', '#', '&', '*', ',', '-', '.', '0', '1', '2', '3', '5', '7', '8', '9', ':', ';', '?', 'A', 'B', 'C', 'D', 'E', 'F', 'G', 'H', 'I', 'J', 'K', 'L', 'M', 'N', 'O', 'P', 'Q', 'R', 'S', 'T', 'U', 'V', 'W', 'Y', 'Z', '[', ']', '_', 'a', 'b', 'c', 'd', 'e', 'f', 'g', 'h', 'i', 'j', 'k', 'l', 'm', 'n', 'o', 'p', 'q', 'r', 's', 't', 'u', 'v', 'w', 'x', 'y', 'z', 'æ', '—', '‘', '’', '“', '”', '\\ufeff']\n"
     ]
    }
   ],
   "source": [
    "with open('Romeo_and_juliet.txt','r',encoding='utf-8') as f:\n",
    "    text =f.read()\n",
    "\n",
    "chars = sorted(set(text))\n",
    "print(chars)"
   ]
  },
  {
   "cell_type": "code",
   "execution_count": 13,
   "id": "02023772-a91b-4f01-853c-386be6d68d44",
   "metadata": {},
   "outputs": [
    {
     "name": "stdout",
     "output_type": "stream",
     "text": [
      "tensor([80, 39, 56, 67, 59, 52, 17,  1, 37, 62, 60, 52, 62,  1, 48, 61, 51,  1,\n",
      "        29, 68, 59, 56, 52, 67,  0,  0,  0, 20, 68, 67, 55, 62, 65, 17,  1, 42,\n",
      "        56, 59, 59, 56, 48, 60,  1, 38, 55, 48, 58, 52, 66, 63, 52, 48, 65, 52,\n",
      "         0,  0, 37, 52, 59, 52, 48, 66, 52,  1, 51, 48, 67, 52, 17,  1, 33, 62,\n",
      "        69, 52, 60, 49, 52, 65,  1, 10,  6,  1, 10, 16, 16, 15,  1, 45, 52, 21,\n",
      "        62, 62, 58,  1,  3, 10, 13, 10, 12, 46])\n"
     ]
    }
   ],
   "source": [
    "strings_to_int ={ ch:i for i,ch in enumerate(chars)}\n",
    "int_to_strings = { i:ch for i,ch in enumerate(chars)}\n",
    "encode = lambda s:[ strings_to_int[c] for c in s]\n",
    "decode = lambda l: ''.join([int_to_strings[i] for i in l])\n",
    "\n",
    "data = torch.tensor(encode(text),dtype=torch.long)\n",
    "print(data[:100])"
   ]
  },
  {
   "cell_type": "code",
   "execution_count": 14,
   "id": "a9cdcf3a",
   "metadata": {},
   "outputs": [],
   "source": [
    "n= int(0.8*len(data))\n",
    "train_data = data[:n]\n",
    "val_data = data[n:]"
   ]
  },
  {
   "cell_type": "code",
   "execution_count": 16,
   "id": "76a8585a",
   "metadata": {},
   "outputs": [
    {
     "name": "stdout",
     "output_type": "stream",
     "text": [
      "when input is  tensor([80])  target is  tensor(39)\n",
      "when input is  tensor([80, 39])  target is  tensor(56)\n",
      "when input is  tensor([80, 39, 56])  target is  tensor(67)\n",
      "when input is  tensor([80, 39, 56, 67])  target is  tensor(59)\n",
      "when input is  tensor([80, 39, 56, 67, 59])  target is  tensor(52)\n",
      "when input is  tensor([80, 39, 56, 67, 59, 52])  target is  tensor(17)\n",
      "when input is  tensor([80, 39, 56, 67, 59, 52, 17])  target is  tensor(1)\n",
      "when input is  tensor([80, 39, 56, 67, 59, 52, 17,  1])  target is  tensor(37)\n"
     ]
    }
   ],
   "source": [
    "\n",
    "\n",
    "x = train_data[:block_size]\n",
    "y = train_data[1:block_size+1]\n",
    "\n",
    "for t in range(block_size):\n",
    "    context = x[:t+1]\n",
    "    target = y[t]\n",
    "    print('when input is ',context,' target is ',target)"
   ]
  },
  {
   "cell_type": "code",
   "execution_count": null,
   "id": "4a682426",
   "metadata": {},
   "outputs": [],
   "source": []
  },
  {
   "cell_type": "code",
   "execution_count": 21,
   "id": "5b9b4afb",
   "metadata": {},
   "outputs": [
    {
     "name": "stderr",
     "output_type": "stream",
     "text": [
      "'torch' is not recognized as an internal or external command,\n",
      "operable program or batch file.\n"
     ]
    }
   ],
   "source": []
  },
  {
   "cell_type": "code",
   "execution_count": null,
   "id": "5bc8cfae",
   "metadata": {},
   "outputs": [],
   "source": []
  }
 ],
 "metadata": {
  "kernelspec": {
   "display_name": "cuda-gpt",
   "language": "python",
   "name": "cuda"
  },
  "language_info": {
   "codemirror_mode": {
    "name": "ipython",
    "version": 3
   },
   "file_extension": ".py",
   "mimetype": "text/x-python",
   "name": "python",
   "nbconvert_exporter": "python",
   "pygments_lexer": "ipython3",
   "version": "3.10.9"
  }
 },
 "nbformat": 4,
 "nbformat_minor": 5
}
