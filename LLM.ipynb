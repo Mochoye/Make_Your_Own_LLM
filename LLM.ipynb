{
 "cells": [
  {
   "cell_type": "code",
   "execution_count": 10,
   "id": "921c1652",
   "metadata": {},
   "outputs": [
    {
     "name": "stdout",
     "output_type": "stream",
     "text": [
      "cuda\n"
     ]
    }
   ],
   "source": [
    "import torch\n",
    "import torch.nn as nn\n",
    "from torch.nn import functional as F\n",
    "device = 'cuda' if torch.cuda.is_available() else 'cpu'\n",
    "print(device)\n",
    "block_size = 8\n",
    "batch_size = 4\n",
    "max_iters = 1000\n",
    "# eval_interval = 2500\n",
    "learning_rate = 3e-4\n",
    "eval_iters = 250"
   ]
  },
  {
   "cell_type": "code",
   "execution_count": 12,
   "id": "862427dd-5f7d-4722-961f-6bb4274093ed",
   "metadata": {},
   "outputs": [
    {
     "name": "stdout",
     "output_type": "stream",
     "text": [
      "['\\n', ' ', '!', '#', '&', '*', ',', '-', '.', '0', '1', '2', '3', '5', '7', '8', '9', ':', ';', '?', 'A', 'B', 'C', 'D', 'E', 'F', 'G', 'H', 'I', 'J', 'K', 'L', 'M', 'N', 'O', 'P', 'Q', 'R', 'S', 'T', 'U', 'V', 'W', 'Y', 'Z', '[', ']', '_', 'a', 'b', 'c', 'd', 'e', 'f', 'g', 'h', 'i', 'j', 'k', 'l', 'm', 'n', 'o', 'p', 'q', 'r', 's', 't', 'u', 'v', 'w', 'x', 'y', 'z', 'æ', '—', '‘', '’', '“', '”', '\\ufeff']\n"
     ]
    }
   ],
   "source": [
    "with open('Romeo_and_juliet.txt','r',encoding='utf-8') as f:\n",
    "    text =f.read()\n",
    "\n",
    "chars = sorted(set(text))\n",
    "print(chars)\n",
    "vocab_size = len(chars)"
   ]
  },
  {
   "cell_type": "code",
   "execution_count": 6,
   "id": "02023772-a91b-4f01-853c-386be6d68d44",
   "metadata": {},
   "outputs": [
    {
     "name": "stdout",
     "output_type": "stream",
     "text": [
      "tensor([80, 39, 56, 67, 59, 52, 17,  1, 37, 62, 60, 52, 62,  1, 48, 61, 51,  1,\n",
      "        29, 68, 59, 56, 52, 67,  0,  0,  0, 20, 68, 67, 55, 62, 65, 17,  1, 42,\n",
      "        56, 59, 59, 56, 48, 60,  1, 38, 55, 48, 58, 52, 66, 63, 52, 48, 65, 52,\n",
      "         0,  0, 37, 52, 59, 52, 48, 66, 52,  1, 51, 48, 67, 52, 17,  1, 33, 62,\n",
      "        69, 52, 60, 49, 52, 65,  1, 10,  6,  1, 10, 16, 16, 15,  1, 45, 52, 21,\n",
      "        62, 62, 58,  1,  3, 10, 13, 10, 12, 46])\n"
     ]
    }
   ],
   "source": [
    "strings_to_int ={ ch:i for i,ch in enumerate(chars)}\n",
    "int_to_strings = { i:ch for i,ch in enumerate(chars)}\n",
    "encode = lambda s:[ strings_to_int[c] for c in s]\n",
    "decode = lambda l: ''.join([int_to_strings[i] for i in l])\n",
    "\n",
    "data = torch.tensor(encode(text),dtype=torch.long)\n",
    "print(data[:100])"
   ]
  },
  {
   "cell_type": "code",
   "execution_count": 8,
   "id": "a9cdcf3a",
   "metadata": {},
   "outputs": [
    {
     "name": "stdout",
     "output_type": "stream",
     "text": [
      "inputs:\n",
      "tensor([[24,  8,  0, 27, 48, 65, 58,  6],\n",
      "        [67, 55, 56, 66,  1, 69, 56, 48],\n",
      "        [ 2,  0,  0, 37, 34, 32, 24, 34],\n",
      "        [40, 31, 24, 39,  8,  0, 41, 52]], device='cuda:0')\n",
      "targets:\n",
      "tensor([[ 8,  0, 27, 48, 65, 58,  6,  1],\n",
      "        [55, 56, 66,  1, 69, 56, 48, 59],\n",
      "        [ 0,  0, 37, 34, 32, 24, 34,  8],\n",
      "        [31, 24, 39,  8,  0, 41, 52, 65]], device='cuda:0')\n"
     ]
    }
   ],
   "source": [
    "n= int(0.8*len(data))\n",
    "train_data = data[:n]\n",
    "val_data = data[n:]\n",
    "\n",
    "def get_batch(split):\n",
    "    data = train_data if split == 'train' else val_data\n",
    "    ix = torch.randint(len(data) - block_size, (batch_size,))\n",
    "    x = torch.stack([data[i:i+block_size] for i in ix])\n",
    "    y = torch.stack([data[i+1:i+block_size+1] for i in ix])\n",
    "    x, y = x.to(device), y.to(device)\n",
    "    return x, y\n",
    "\n",
    "x, y = get_batch('train')\n",
    "print('inputs:')\n",
    "# print(x.shape)\n",
    "print(x)\n",
    "print('targets:')\n",
    "print(y)"
   ]
  },
  {
   "cell_type": "code",
   "execution_count": 13,
   "id": "3c66ac6d",
   "metadata": {},
   "outputs": [
    {
     "name": "stdout",
     "output_type": "stream",
     "text": [
      "\n",
      "-’,!brU]”PQa”Zyqfg_RlpUnq&EY—‘&]trxIyOtLxeOvwf-7hf[28NB!”P’3TSpRMDJFslm2&#Z:WeUqAc-,o7;’ogYsKz\n",
      "5‘C:Qe﻿CxIOvOF;’JFec3a!‘DapROgT7de‘’rxeD S2si17“HD8C”[2s--mlbmgp]CBI;QK9h7&F2]QCF]:BsS﻿Bqxe‘Qk!dQpF;7Gb8iZr[’5CB’JMkJv75glOsAx.;’apt,tk2dNddOo‘UiHwbJl]xeEG!﻿mv5zYDm2OædæoZnH;]sJ‘!i‘5J8&5wq0lUNxeh#r’S’YRjxk#SW-,IVFZ﻿sPPfk!ikMN5dn-fPAQæh“HILqxOiUv[wtr“v]*;Bh]JsPN_GtcK_E?OKJT2k”jS’J&*kH0]f S_TI“5‘YEDaZMMhN8N\n",
      "5CU”u—O’5R]N‘Sh.Iz7Sk]“KZZA0c﻿7zYJnp’50Tc--sWQeæ;[QpqYAPJS-Zswr*[ogVc,8R“s5dS__;j’dl]-’Lt21F\n",
      "1‘8t7\n"
     ]
    }
   ],
   "source": [
    "class BigramLanguageModel(nn.Module):\n",
    "    def __init__(self, vocab_size):\n",
    "        super().__init__()\n",
    "        self.token_embedding_table = nn.Embedding(vocab_size, vocab_size)\n",
    "        \n",
    "    def forward(self, index, targets=None):\n",
    "        logits = self.token_embedding_table(index)\n",
    "        \n",
    "        \n",
    "        if targets is None:\n",
    "            loss = None\n",
    "        else:\n",
    "            B, T, C = logits.shape\n",
    "            logits = logits.view(B*T, C)\n",
    "            targets = targets.view(B*T)\n",
    "            loss = F.cross_entropy(logits, targets)\n",
    "        \n",
    "        return logits, loss\n",
    "    \n",
    "    def generate(self, index, max_new_tokens):\n",
    "        # index is (B, T) array of indices in the current context\n",
    "        for _ in range(max_new_tokens):\n",
    "            # get the predictions\n",
    "            logits, loss = self.forward(index)\n",
    "            # focus only on the last time step\n",
    "            logits = logits[:, -1, :] # becomes (B, C)\n",
    "            # apply softmax to get probabilities\n",
    "            probs = F.softmax(logits, dim=-1) # (B, C)\n",
    "            # sample from the distribution\n",
    "            index_next = torch.multinomial(probs, num_samples=1) # (B, 1)\n",
    "            # append sampled index to the running sequence\n",
    "            index = torch.cat((index, index_next), dim=1) # (B, T+1)\n",
    "        return index\n",
    "\n",
    "model = BigramLanguageModel(vocab_size)\n",
    "m = model.to(device)\n",
    "\n",
    "context = torch.zeros((1,1), dtype=torch.long, device=device)\n",
    "generated_chars = decode(m.generate(context, max_new_tokens=500)[0].tolist())\n",
    "print(generated_chars)"
   ]
  },
  {
   "cell_type": "code",
   "execution_count": 14,
   "id": "76a8585a",
   "metadata": {},
   "outputs": [],
   "source": [
    "@torch.no_grad()\n",
    "def estimate_loss():\n",
    "    out = {}\n",
    "    model.eval()\n",
    "    for split in ['train', 'val']:\n",
    "        losses = torch.zeros(eval_iters)\n",
    "        for k in range(eval_iters):\n",
    "            X, Y = get_batch(split)\n",
    "            logits, loss = model(X, Y)\n",
    "            losses[k] = loss.item()\n",
    "        out[split] = losses.mean()\n",
    "    model.train()\n",
    "    return out"
   ]
  },
  {
   "cell_type": "code",
   "execution_count": 15,
   "id": "4a682426",
   "metadata": {},
   "outputs": [
    {
     "name": "stdout",
     "output_type": "stream",
     "text": [
      "step: 0, train loss: 4.946, val loss: 4.935\n",
      "step: 250, train loss: 4.901, val loss: 4.890\n",
      "step: 500, train loss: 4.850, val loss: 4.824\n",
      "step: 750, train loss: 4.786, val loss: 4.769\n",
      "4.785518646240234\n"
     ]
    }
   ],
   "source": [
    "# create a PyTorch optimizer\n",
    "optimizer = torch.optim.AdamW(model.parameters(), lr=learning_rate)\n",
    "\n",
    "for iter in range(max_iters):\n",
    "    if iter % eval_iters == 0:\n",
    "        losses = estimate_loss()\n",
    "        print(f\"step: {iter}, train loss: {losses['train']:.3f}, val loss: {losses['val']:.3f}\")\n",
    "\n",
    "    # sample a batch of data\n",
    "    xb, yb = get_batch('train')\n",
    "\n",
    "    # evaluate the loss\n",
    "    logits, loss = model.forward(xb, yb)\n",
    "    optimizer.zero_grad(set_to_none=True)\n",
    "    loss.backward()\n",
    "    optimizer.step()\n",
    "print(loss.item())"
   ]
  },
  {
   "cell_type": "code",
   "execution_count": 16,
   "id": "5b9b4afb",
   "metadata": {},
   "outputs": [
    {
     "name": "stdout",
     "output_type": "stream",
     "text": [
      "\n",
      " DCsHgHwm!ZDuc_y,GspeBbh:—-t“bT7dhwk& GL9rG&9hwqo,GgE7b8OiNBwksrT7—yz]vp—R7:dK7SjzL&MæDz2a‘! Jk7qg5[z#VIhxPEDW,?—IpLr“Kzæj28e\n",
      "ebOwlhh“”.’—[DbdOi.vaqxY*?HR]*‘.BYs;tYwjMhrYv“c3ænq[“[DW;’:a0NBZp[u[o,y?gYcC?eO:-CDNxR7p\n",
      "t-t’9j7i*aC’e\n",
      " f;NRbh[oQV:KzmTYuI’kAQ]DNly [2\n",
      "r“I_eOvmæ Gt[oWQyU_p]5TY‘8-mQiKz&tYpC’kZ&txQecLa\n",
      "\n",
      "t;Y“LreAc 3W\n",
      "3Si1zZf ]F;V_29” J!yq#wk8#v?KzopqtrAxh5t”zORcmtY!_!JVx;]oQqx5Vs]kZ&d G\n",
      "9K\n",
      "3æp—-olQe﻿*DGLH s5Cæ! Mpudd‘E’5kDtJ:—IDmljhfKi0*xc3‘8“2Cvm\n",
      "NnD‘C;—Vf-fyN_tYu—0wIU k﻿_p7z]-N&”Jaæjæ.;D8\n"
     ]
    }
   ],
   "source": [
    "context = torch.zeros((1,1), dtype=torch.long, device=device)\n",
    "generated_chars = decode(m.generate(context, max_new_tokens=500)[0].tolist())\n",
    "print(generated_chars)"
   ]
  },
  {
   "cell_type": "code",
   "execution_count": null,
   "id": "5bc8cfae",
   "metadata": {},
   "outputs": [],
   "source": []
  }
 ],
 "metadata": {
  "kernelspec": {
   "display_name": "cuda-gpt",
   "language": "python",
   "name": "cuda"
  },
  "language_info": {
   "codemirror_mode": {
    "name": "ipython",
    "version": 3
   },
   "file_extension": ".py",
   "mimetype": "text/x-python",
   "name": "python",
   "nbconvert_exporter": "python",
   "pygments_lexer": "ipython3",
   "version": "3.10.9"
  }
 },
 "nbformat": 4,
 "nbformat_minor": 5
}
